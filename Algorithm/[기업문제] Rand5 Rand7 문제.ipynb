{
 "cells": [
  {
   "cell_type": "markdown",
   "id": "30847015",
   "metadata": {},
   "source": [
    "Rand5() Using Rand7() "
   ]
  },
  {
   "cell_type": "code",
   "execution_count": 7,
   "id": "8bc51e71",
   "metadata": {},
   "outputs": [],
   "source": [
    "def Rand5():\n",
    "    while(True):\n",
    "        n = Rand7()\n",
    "        if n <= 5:\n",
    "            return n "
   ]
  },
  {
   "cell_type": "markdown",
   "id": "2d6e36d0",
   "metadata": {},
   "source": [
    "Rand7() Using Rand5()"
   ]
  },
  {
   "cell_type": "code",
   "execution_count": 12,
   "id": "056f3fa3",
   "metadata": {},
   "outputs": [],
   "source": [
    " def Rand7():\n",
    "    while(True):\n",
    "        n = (7-5+1) * Rand5() + Rand5()\n",
    "        if n < 14 : \n",
    "            return n%7\n",
    "        return Rand7()"
   ]
  }
 ],
 "metadata": {
  "kernelspec": {
   "display_name": "Python 3 (ipykernel)",
   "language": "python",
   "name": "python3"
  },
  "language_info": {
   "codemirror_mode": {
    "name": "ipython",
    "version": 3
   },
   "file_extension": ".py",
   "mimetype": "text/x-python",
   "name": "python",
   "nbconvert_exporter": "python",
   "pygments_lexer": "ipython3",
   "version": "3.9.5"
  }
 },
 "nbformat": 4,
 "nbformat_minor": 5
}
