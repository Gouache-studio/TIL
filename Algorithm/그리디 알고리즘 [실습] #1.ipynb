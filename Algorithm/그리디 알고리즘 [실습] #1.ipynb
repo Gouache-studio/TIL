{
 "cells": [
  {
   "cell_type": "markdown",
   "id": "6ea73e57",
   "metadata": {},
   "source": [
    "# 문제"
   ]
  },
  {
   "cell_type": "markdown",
   "id": "181fc92b",
   "metadata": {},
   "source": [
    "인하은행에는 ATM이 1대밖에 없다. 지금 이 ATM앞에 N명의 사람들이 줄을 서있다. 사람은 1번부터 N번까지 번호가 매겨져 있으며, i번 사람이 돈을 인출하는데 걸리는 시간은 Pi분이다.\n",
    "\n",
    "사람들이 줄을 서는 순서에 따라서, 돈을 인출하는데 필요한 시간의 합이 달라지게 된다. 예를 들어, 총 5명이 있고, P1 = 3, P2 = 1, P3 = 4, P4 = 3, P5 = 2 인 경우를 생각해보자. <br>\n",
    "\n",
    "[1, 2, 3, 4, 5] 순서로 줄을 선다면, 1번 사람은 3분만에 돈을 뽑을 수 있다. 2번 사람은 1번 사람이 돈을 뽑을 때 까지 기다려야 하기 때문에, 3+1 = 4분이 걸리게 된다. 3번 사람은 1번, 2번 사람이 돈을 뽑을 때까지 기다려야 하기 때문에, 총 3+1+4 = 8분이 필요하게 된다. 4번 사람은 3+1+4+3 = 11분, 5번 사람은 3+1+4+3+2 = 13분이 걸리게 된다. 이 경우에 각 사람이 돈을 인출하는데 필요한 시간의 합은 3+4+8+11+13 = 39분이 된다.\n",
    "\n",
    "줄을 [2, 5, 1, 4, 3] 순서로 줄을 서면, 2번 사람은 1분만에, 5번 사람은 1+2 = 3분, 1번 사람은 1+2+3 = 6분, 4번 사람은 1+2+3+3 = 9분, 3번 사람은 1+2+3+3+4 = 13분이 걸리게 된다. 각 사람이 돈을 인출하는데 필요한 시간의 합은 1+3+6+9+13 = 32분이다. 이 방법보다 더 필요한 시간의 합을 최소로 만들 수는 없다.\n",
    "\n",
    "줄을 서 있는 사람의 수 N과 각 사람이 돈을 인출하는데 걸리는 시간 Pi가 주어졌을 때, 각 사람이 돈을 인출하는데 필요한 시간의 합의 최솟값을 구하는 프로그램을 작성하시오"
   ]
  },
  {
   "cell_type": "markdown",
   "id": "2802f6b6",
   "metadata": {},
   "source": [
    "# 문제 개요"
   ]
  },
  {
   "cell_type": "markdown",
   "id": "48ca2e14",
   "metadata": {},
   "source": [
    "ATM 1대 \n",
    "N 명 대기. i번 사람이 돈을 인출하는데 걸리는 시간은 Pi 분 \n",
    "줄서는 순서에 따라 합이 달라짐.\n",
    "5명, P1 = 3 P2 = 1 P3 = 4 P4 = 3 P5= 2 \n",
    "줄을 1,2,3,4,5\n",
    "총 시간 합은 = 3, 3+1, 3+1+4, 3+1+4+3, 3+1+4+2 \n",
    "= 3 + 4 + 8 + 11 + 13\n",
    "= 39분\n",
    "\n",
    "줄을 2 5 1 4 3\n",
    "총시간합은 1, 1+2, 1+2+3, 1+2+3+3, 1+2+3+3+4 \n",
    "= 1+3+6+9+13\n",
    "= 32분 \n",
    "\n",
    "최솟값을 구하는 프로그램을 작성하시오. "
   ]
  },
  {
   "cell_type": "markdown",
   "id": "be6ccdf5",
   "metadata": {},
   "source": [
    "# 아이디어"
   ]
  },
  {
   "cell_type": "markdown",
   "id": "51d0fddb",
   "metadata": {},
   "source": [
    "딕셔너리 솔트 value 값으로 정렬 후 <br>\n",
    "반복문을 통해 합계산"
   ]
  },
  {
   "cell_type": "code",
   "execution_count": 139,
   "id": "d635f1c2",
   "metadata": {},
   "outputs": [],
   "source": [
    "#입력예시 \n",
    "#======\n",
    "# N = 5\n",
    "# 3 1 4 3 2\n",
    "\n",
    "# 결과\n",
    "#======\n",
    "# 32"
   ]
  },
  {
   "cell_type": "markdown",
   "id": "f36d43b1",
   "metadata": {},
   "source": [
    "# 연습"
   ]
  },
  {
   "cell_type": "code",
   "execution_count": 84,
   "id": "ad45ad3d",
   "metadata": {},
   "outputs": [
    {
     "name": "stdout",
     "output_type": "stream",
     "text": [
      "5\n",
      "3\n",
      "1\n",
      "4\n",
      "3\n",
      "2\n"
     ]
    }
   ],
   "source": [
    "# 입력값 가져오기 \n",
    "# N = 5\n",
    "# 3 1 4 3 2\n",
    "N = int(input())\n",
    "people = {}\n",
    "for i in range(N):\n",
    "    people[f'P{i+1}'] = int(input())"
   ]
  },
  {
   "cell_type": "code",
   "execution_count": 85,
   "id": "742950aa",
   "metadata": {
    "scrolled": true
   },
   "outputs": [
    {
     "data": {
      "text/plain": [
       "{'P1': 3, 'P2': 1, 'P3': 4, 'P4': 3, 'P5': 2}"
      ]
     },
     "execution_count": 85,
     "metadata": {},
     "output_type": "execute_result"
    }
   ],
   "source": [
    "people"
   ]
  },
  {
   "cell_type": "code",
   "execution_count": 86,
   "id": "8cdea7bb",
   "metadata": {},
   "outputs": [
    {
     "name": "stdout",
     "output_type": "stream",
     "text": [
      "[('P2', 1), ('P5', 2), ('P1', 3), ('P4', 3), ('P3', 4)]\n"
     ]
    }
   ],
   "source": [
    "people = sorted(people.items(), key=lambda x: x[1]) \n",
    "# 튜플값말고 딕셔너리 형태로 정렬하는 방법 \n",
    "# people={k: v for k, v in sorted(people.items(), key=lambda item: item[1])}\n",
    "print(people)"
   ]
  },
  {
   "cell_type": "code",
   "execution_count": 134,
   "id": "572ce815",
   "metadata": {},
   "outputs": [],
   "source": [
    "result = []\n",
    "total = 0\n",
    "for i in range(N):\n",
    "    waiting = people[i][1]\n",
    "    total = total + waiting\n",
    "    result.append(total)\n",
    "sum(result)"
   ]
  },
  {
   "cell_type": "code",
   "execution_count": 132,
   "id": "1d5853d9",
   "metadata": {},
   "outputs": [],
   "source": [
    "a = [1,2,3]\n",
    "b = 3\n",
    "a.append(b)"
   ]
  },
  {
   "cell_type": "code",
   "execution_count": 135,
   "id": "824759d0",
   "metadata": {},
   "outputs": [
    {
     "name": "stdout",
     "output_type": "stream",
     "text": [
      "[1, 3, 6, 9, 13]\n"
     ]
    }
   ],
   "source": [
    "print(result)"
   ]
  },
  {
   "cell_type": "code",
   "execution_count": 137,
   "id": "42503931",
   "metadata": {},
   "outputs": [
    {
     "data": {
      "text/plain": [
       "32"
      ]
     },
     "execution_count": 137,
     "metadata": {},
     "output_type": "execute_result"
    }
   ],
   "source": [
    "sum(result)"
   ]
  },
  {
   "cell_type": "markdown",
   "id": "95958f72",
   "metadata": {},
   "source": [
    "# 내가 짠 코드"
   ]
  },
  {
   "cell_type": "code",
   "execution_count": 142,
   "id": "fd03cd37",
   "metadata": {},
   "outputs": [
    {
     "name": "stdout",
     "output_type": "stream",
     "text": [
      "5\n",
      "3\n",
      "1\n",
      "4\n",
      "3\n",
      "2\n"
     ]
    },
    {
     "data": {
      "text/plain": [
       "32"
      ]
     },
     "execution_count": 142,
     "metadata": {},
     "output_type": "execute_result"
    }
   ],
   "source": [
    "N = int(input())\n",
    "people = {}\n",
    "for i in range(N):\n",
    "    people[f'P{i+1}'] = int(input())\n",
    "\n",
    "people = sorted(people.items(), key=lambda x: x[1]) \n",
    "result = []\n",
    "total = 0\n",
    "for i in range(N):\n",
    "    waiting = people[i][1]\n",
    "    total = total + waiting\n",
    "    result.append(total)\n",
    "sum(result)"
   ]
  },
  {
   "cell_type": "code",
   "execution_count": 14,
   "id": "172757cb",
   "metadata": {},
   "outputs": [
    {
     "name": "stdout",
     "output_type": "stream",
     "text": [
      "5\n",
      "3 1 4 3 2\n",
      "32\n"
     ]
    }
   ],
   "source": [
    "N = int(input())\n",
    "people = list(map(int, input().split()))\n",
    "people.sort()\n",
    "\n",
    "total = 0\n",
    "for i in range(N):\n",
    "    waiting = people[i]\n",
    "    total = total + waiting\n",
    "    result.append(total)\n",
    "\n",
    "result = sum(result)\n",
    "print(result)"
   ]
  }
 ],
 "metadata": {
  "kernelspec": {
   "display_name": "Python 3 (ipykernel)",
   "language": "python",
   "name": "python3"
  },
  "language_info": {
   "codemirror_mode": {
    "name": "ipython",
    "version": 3
   },
   "file_extension": ".py",
   "mimetype": "text/x-python",
   "name": "python",
   "nbconvert_exporter": "python",
   "pygments_lexer": "ipython3",
   "version": "3.9.5"
  }
 },
 "nbformat": 4,
 "nbformat_minor": 5
}
